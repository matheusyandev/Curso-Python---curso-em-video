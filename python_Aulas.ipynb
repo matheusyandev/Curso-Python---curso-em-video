{
  "nbformat": 4,
  "nbformat_minor": 0,
  "metadata": {
    "colab": {
      "name": "python Aulas.ipynb",
      "provenance": [],
      "authorship_tag": "ABX9TyNtDoS9baWm8vrWYHp24UmN",
      "include_colab_link": true
    },
    "kernelspec": {
      "name": "python3",
      "display_name": "Python 3"
    },
    "language_info": {
      "name": "python"
    }
  },
  "cells": [
    {
      "cell_type": "markdown",
      "metadata": {
        "id": "view-in-github",
        "colab_type": "text"
      },
      "source": [
        "<a href=\"https://colab.research.google.com/github/matheusyandev/Curso-Python---curso-em-video/blob/main/python_Aulas.ipynb\" target=\"_parent\"><img src=\"https://colab.research.google.com/assets/colab-badge.svg\" alt=\"Open In Colab\"/></a>"
      ]
    },
    {
      "cell_type": "markdown",
      "source": [
        "#Exercicio 01\n",
        "Crie um script Python que leia o nome de uma pessoa e mostre uma mensagem de boas-vindas de acordo com o valor digitado"
      ],
      "metadata": {
        "id": "mBWFJi7gn6of"
      }
    },
    {
      "cell_type": "code",
      "execution_count": null,
      "metadata": {
        "id": "4ZTZb4CcnkZ8"
      },
      "outputs": [],
      "source": [
        "name = input('qual é o seu nome?')\n",
        "print('Seja bem vindo',name,'prazer em conhece-lo')"
      ]
    },
    {
      "cell_type": "markdown",
      "source": [
        "#Exercicio 02\n",
        "\n",
        "Crie um script python que leia o dia,mes e o ano de nascimento de uma pessoa e mostre uma mensgem com a data formatada\n"
      ],
      "metadata": {
        "id": "o-6IO5nUoHnc"
      }
    },
    {
      "cell_type": "code",
      "source": [
        "dia = input('dia=')\n",
        "mes = input('mes=')\n",
        "ano = input('ano=')\n",
        "print('voce nasceu no dia',dia,'do',mes,'de',ano,)"
      ],
      "metadata": {
        "colab": {
          "base_uri": "https://localhost:8080/",
          "height": 0
        },
        "id": "dTjxeQ85oZ8K",
        "outputId": "bc78ea8b-cfd0-4890-a40d-27c5dac6e045"
      },
      "execution_count": 1,
      "outputs": [
        {
          "output_type": "stream",
          "name": "stdout",
          "text": [
            "dia=20\n",
            "mes=4\n",
            "ano=2009\n",
            "voce nasceu no dia 20 de 4 de 2009\n"
          ]
        }
      ]
    },
    {
      "cell_type": "markdown",
      "source": [
        "#Exercicio 03\n",
        "Crie um script Python que leia dois numeros e tente mostrar a soma entre eles"
      ],
      "metadata": {
        "id": "CDEHMYZDqACS"
      }
    },
    {
      "cell_type": "code",
      "source": [
        "a = input('escreva um numero: ')\n",
        "b = input('escreva um segundo numero: ')\n",
        "s = a + b\n",
        "print('a soma entre os dois numeros é',s)"
      ],
      "metadata": {
        "colab": {
          "base_uri": "https://localhost:8080/",
          "height": 0
        },
        "id": "Q9q0FBsUqmGh",
        "outputId": "f0789432-509c-43b0-86ad-1887c985f8c2"
      },
      "execution_count": 5,
      "outputs": [
        {
          "output_type": "stream",
          "name": "stdout",
          "text": [
            "escreva um numero: 1\n",
            "escreva um segundo numero: 4\n",
            "a soma entre os dois numeros é 14\n"
          ]
        }
      ]
    },
    {
      "cell_type": "markdown",
      "source": [
        "# Fase 6\n"
      ],
      "metadata": {
        "id": "uq9l9OKt52VZ"
      }
    },
    {
      "cell_type": "markdown",
      "source": [
        "#Exercicio 04 - Tipos primitivos e Saida de dados\n",
        "\n",
        "Tipos primitivos mais basicos\n",
        "* Int - ex: 7 , -4 , 0 , 9875\n",
        "* Float - ex: 4.5 , 0.076 , -15.223 ,7.0\n",
        "* Bool - ex: True , False\n",
        "* Str - ex: 'Olá' , '7,5' , ''\n",
        "\n",
        "\n",
        "\n",
        "print('a soma vale',s,)\n",
        "\n",
        "Modo mais facil de usar print:    \n",
        "\n",
        "print('a soma vale{}'.format(s))"
      ],
      "metadata": {
        "id": "SXqdEhtu5R4R"
      }
    },
    {
      "cell_type": "code",
      "source": [
        "#Exemplo\n",
        "n1 = int(input('Digite um numero: '))\n",
        "n2 = int(input('Digite mais um numero: '))\n",
        "s = n1 + n2\n",
        "print('a soma vale',s)"
      ],
      "metadata": {
        "colab": {
          "base_uri": "https://localhost:8080/"
        },
        "id": "LZxHmrQt56pj",
        "outputId": "a649174a-1a50-4de9-c0bf-90cf6013674d"
      },
      "execution_count": 11,
      "outputs": [
        {
          "output_type": "stream",
          "name": "stdout",
          "text": [
            "Digite um numero: 3\n",
            "Digite mais um numero: 5\n",
            "a soma vale 8\n"
          ]
        }
      ]
    },
    {
      "cell_type": "code",
      "source": [
        "n1 = int(input('digite um numero: '))\n",
        "n2 = int(input('digite outro: '))\n",
        "s = n1 + n2\n",
        "#print('a soma entre os valores',n1,'+',n2,'=',s)\n",
        "print('a soma entre {} e {} vale {}'.format(n1,n2,s))"
      ],
      "metadata": {
        "colab": {
          "base_uri": "https://localhost:8080/"
        },
        "id": "aZyvsNnYEL7u",
        "outputId": "b5aa0cc3-eab0-44ca-dd6b-ecb9952e5e56"
      },
      "execution_count": 17,
      "outputs": [
        {
          "output_type": "stream",
          "name": "stdout",
          "text": [
            "digite um numero: 2\n",
            "digite outro: 4\n",
            "a soma entre 2 e 4 vale 6\n"
          ]
        }
      ]
    },
    {
      "cell_type": "code",
      "source": [
        "n = float(input('digite um valor: '))\n",
        "print(n)"
      ],
      "metadata": {
        "colab": {
          "base_uri": "https://localhost:8080/"
        },
        "id": "KaJ4N2Z0GkOv",
        "outputId": "4d44c9bb-37e1-4297-ebe7-ef462e96c2c6"
      },
      "execution_count": 18,
      "outputs": [
        {
          "output_type": "stream",
          "name": "stdout",
          "text": [
            "digite um valor: 8\n",
            "8.0\n"
          ]
        }
      ]
    }
  ]
}