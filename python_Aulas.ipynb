{
  "nbformat": 4,
  "nbformat_minor": 0,
  "metadata": {
    "colab": {
      "name": "python Aulas.ipynb",
      "provenance": [],
      "authorship_tag": "ABX9TyNcVeMnPI0ChoT1kTT7I0QO",
      "include_colab_link": true
    },
    "kernelspec": {
      "name": "python3",
      "display_name": "Python 3"
    },
    "language_info": {
      "name": "python"
    }
  },
  "cells": [
    {
      "cell_type": "markdown",
      "metadata": {
        "id": "view-in-github",
        "colab_type": "text"
      },
      "source": [
        "<a href=\"https://colab.research.google.com/github/matheusyandev/Curso-Python---curso-em-video/blob/main/python_Aulas.ipynb\" target=\"_parent\"><img src=\"https://colab.research.google.com/assets/colab-badge.svg\" alt=\"Open In Colab\"/></a>"
      ]
    },
    {
      "cell_type": "markdown",
      "source": [
        "#Exercicio 01\n",
        "Crie um script Python que leia o nome de uma pessoa e mostre uma mensagem de boas-vindas de acordo com o valor digitado"
      ],
      "metadata": {
        "id": "mBWFJi7gn6of"
      }
    },
    {
      "cell_type": "code",
      "execution_count": null,
      "metadata": {
        "id": "4ZTZb4CcnkZ8"
      },
      "outputs": [],
      "source": [
        "name = input('qual é o seu nome?')\n",
        "print('Seja bem vindo',name,'prazer em conhece-lo')"
      ]
    },
    {
      "cell_type": "markdown",
      "source": [
        "#Exercicio 02\n",
        "\n",
        "Crie um script python que leia o dia,mes e o ano de nascimento de uma pessoa e mostre uma mensgem com a data formatada\n"
      ],
      "metadata": {
        "id": "o-6IO5nUoHnc"
      }
    },
    {
      "cell_type": "code",
      "source": [
        "dia = input('dia=')\n",
        "mes = input('mes=')\n",
        "ano = input('ano=')\n",
        "print('voce nasceu no dia',dia,'do',mes,'de',ano,)"
      ],
      "metadata": {
        "colab": {
          "base_uri": "https://localhost:8080/"
        },
        "id": "dTjxeQ85oZ8K",
        "outputId": "bc78ea8b-cfd0-4890-a40d-27c5dac6e045"
      },
      "execution_count": null,
      "outputs": [
        {
          "output_type": "stream",
          "name": "stdout",
          "text": [
            "dia=20\n",
            "mes=4\n",
            "ano=2009\n",
            "voce nasceu no dia 20 de 4 de 2009\n"
          ]
        }
      ]
    },
    {
      "cell_type": "markdown",
      "source": [
        "#Exercicio 03\n",
        "Crie um script Python que leia dois numeros e tente mostrar a soma entre eles"
      ],
      "metadata": {
        "id": "CDEHMYZDqACS"
      }
    },
    {
      "cell_type": "code",
      "source": [
        "a = input('escreva um numero: ')\n",
        "b = input('escreva um segundo numero: ')\n",
        "s = a + b\n",
        "print('a soma entre os dois numeros é',s)"
      ],
      "metadata": {
        "colab": {
          "base_uri": "https://localhost:8080/"
        },
        "id": "Q9q0FBsUqmGh",
        "outputId": "f0789432-509c-43b0-86ad-1887c985f8c2"
      },
      "execution_count": null,
      "outputs": [
        {
          "output_type": "stream",
          "name": "stdout",
          "text": [
            "escreva um numero: 1\n",
            "escreva um segundo numero: 4\n",
            "a soma entre os dois numeros é 14\n"
          ]
        }
      ]
    },
    {
      "cell_type": "markdown",
      "source": [
        "# Fase 6\n"
      ],
      "metadata": {
        "id": "uq9l9OKt52VZ"
      }
    },
    {
      "cell_type": "markdown",
      "source": [
        "#Exercicio 04 - Tipos primitivos e Saida de dados\n",
        "\n",
        "Tipos primitivos mais basicos\n",
        "* Int - ex: 7 , -4 , 0 , 9875\n",
        "* Float - ex: 4.5 , 0.076 , -15.223 ,7.0\n",
        "* Bool - ex: True , False\n",
        "* Str - ex: 'Olá' , '7,5' , ''\n",
        "\n",
        "\n",
        "\n",
        "print('a soma vale',s,)\n",
        "\n",
        "Modo mais facil de usar print:    \n",
        "\n",
        "print('a soma vale{}'.format(s))"
      ],
      "metadata": {
        "id": "SXqdEhtu5R4R"
      }
    },
    {
      "cell_type": "code",
      "source": [
        "#Exemplo\n",
        "n1 = int(input('Digite um numero: '))\n",
        "n2 = int(input('Digite mais um numero: '))\n",
        "s = n1 + n2\n",
        "print('a soma vale',s)"
      ],
      "metadata": {
        "colab": {
          "base_uri": "https://localhost:8080/"
        },
        "id": "LZxHmrQt56pj",
        "outputId": "a649174a-1a50-4de9-c0bf-90cf6013674d"
      },
      "execution_count": null,
      "outputs": [
        {
          "output_type": "stream",
          "name": "stdout",
          "text": [
            "Digite um numero: 3\n",
            "Digite mais um numero: 5\n",
            "a soma vale 8\n"
          ]
        }
      ]
    },
    {
      "cell_type": "code",
      "source": [
        "n1 = int(input('digite um numero: '))\n",
        "n2 = int(input('digite outro: '))\n",
        "s = n1 + n2\n",
        "#print('a soma entre os valores',n1,'+',n2,'=',s)\n",
        "print('a soma entre {} e {} vale {}'.format(n1,n2,s))"
      ],
      "metadata": {
        "colab": {
          "base_uri": "https://localhost:8080/"
        },
        "id": "aZyvsNnYEL7u",
        "outputId": "b5aa0cc3-eab0-44ca-dd6b-ecb9952e5e56"
      },
      "execution_count": null,
      "outputs": [
        {
          "output_type": "stream",
          "name": "stdout",
          "text": [
            "digite um numero: 2\n",
            "digite outro: 4\n",
            "a soma entre 2 e 4 vale 6\n"
          ]
        }
      ]
    },
    {
      "cell_type": "code",
      "source": [
        "n = float(input('digite um valor: '))\n",
        "print(n)"
      ],
      "metadata": {
        "colab": {
          "base_uri": "https://localhost:8080/"
        },
        "id": "KaJ4N2Z0GkOv",
        "outputId": "4d44c9bb-37e1-4297-ebe7-ef462e96c2c6"
      },
      "execution_count": null,
      "outputs": [
        {
          "output_type": "stream",
          "name": "stdout",
          "text": [
            "digite um valor: 8\n",
            "8.0\n"
          ]
        }
      ]
    },
    {
      "cell_type": "markdown",
      "source": [
        "#Desafio 003\n",
        "Crie um programa que leia dois numeros e mostre a soma entre eles "
      ],
      "metadata": {
        "id": "ov7hVSxvoHKP"
      }
    },
    {
      "cell_type": "code",
      "source": [
        "n1 = int(input('escreva um numero: '))\n",
        "n2 = int(input('escreva outro: '))\n",
        "s = n1 + n2\n",
        "print('a soma entre os valores {} e {} é {}'.format(n1,n2,s))"
      ],
      "metadata": {
        "colab": {
          "base_uri": "https://localhost:8080/"
        },
        "id": "LZYmZpqIoLVa",
        "outputId": "5f1d5805-2e0d-4ac1-cb88-c03326928a2a"
      },
      "execution_count": null,
      "outputs": [
        {
          "output_type": "stream",
          "name": "stdout",
          "text": [
            "escreva um numero: 2\n",
            "escreva outro: 1\n",
            "a soma entre os valores 2 e 1 é 3\n"
          ]
        }
      ]
    },
    {
      "cell_type": "markdown",
      "source": [
        "#Desafio 004\n",
        "Faça um programa que leia algo pelo teclado e mostre na tela o seu tipo primitivo e todas as informaçoes possiveis sobre ele."
      ],
      "metadata": {
        "id": "FTBxP8DroXRn"
      }
    },
    {
      "cell_type": "code",
      "source": [
        "n = (input('digite um valor: '))\n",
        "print(type (n))"
      ],
      "metadata": {
        "colab": {
          "base_uri": "https://localhost:8080/"
        },
        "id": "JpERU5qMoZi3",
        "outputId": "deec01aa-e0c8-47e6-a4e5-122e204e0805"
      },
      "execution_count": null,
      "outputs": [
        {
          "output_type": "stream",
          "name": "stdout",
          "text": [
            "digite um valor: 1\n",
            "<class 'str'>\n"
          ]
        }
      ]
    },
    {
      "cell_type": "code",
      "source": [
        "n = (input('digite um valor: '))\n",
        "print(n.isnumeric())"
      ],
      "metadata": {
        "colab": {
          "base_uri": "https://localhost:8080/"
        },
        "id": "2icoERokoevV",
        "outputId": "f3e911c1-70ab-4509-9f8b-a8251ecb1d63"
      },
      "execution_count": null,
      "outputs": [
        {
          "output_type": "stream",
          "name": "stdout",
          "text": [
            "digite um valor: 3\n",
            "True\n"
          ]
        }
      ]
    },
    {
      "cell_type": "markdown",
      "source": [
        "#FASE 7"
      ],
      "metadata": {
        "id": "lKI_6dnGqN-h"
      }
    },
    {
      "cell_type": "markdown",
      "source": [
        "#Operadores Aritiméticos\n",
        "\n",
        "* '+' Adiçao\n",
        "\n",
        "* '-' Subtração\n",
        "\n",
        "* '*' Multiplicação\n",
        "\n",
        "* '/' DIvisão\n",
        "\n",
        "* '**' Potência\n",
        "\n",
        "* '//' Divisão inteira\n",
        "\n",
        "* '%' Resto da divisão\n",
        "\n",
        "\n"
      ],
      "metadata": {
        "id": "DbBhACMTqeEX"
      }
    },
    {
      "cell_type": "markdown",
      "source": [
        "#Exemplos\n",
        "\n",
        "Adição-5+2==7\n",
        "\n",
        "Subtração-5-2==3\n",
        "\n",
        "Multiplicação-5*2==10\n",
        "\n",
        "Divisão-5/2==2.5\n",
        "\n",
        "Potencia-5**2==25\n",
        "\n",
        "Divisão inteira-5//2==2\n",
        "\n",
        "Resto da divisão-5%2==1"
      ],
      "metadata": {
        "id": "DKs3TRrqsyz1"
      }
    },
    {
      "cell_type": "markdown",
      "source": [
        "#Ordem de precedência\n",
        "\n",
        "1- ()\n",
        "\n",
        "2- **\n",
        "\n",
        "3- * , / , // , %\n",
        "\n",
        "4- + , -\n",
        " \n",
        "\n",
        "Exemplos:\n",
        "\n",
        "5+3*2==11\n",
        "\n",
        "3*5+4**2==31\n",
        "\n",
        "3*(5+4)**2==243"
      ],
      "metadata": {
        "id": "NGOyg_YKuEo2"
      }
    },
    {
      "cell_type": "markdown",
      "source": [
        "#Pratica"
      ],
      "metadata": {
        "id": "pu3oH9Gqu1CO"
      }
    },
    {
      "cell_type": "code",
      "source": [
        "5+3*2"
      ],
      "metadata": {
        "colab": {
          "base_uri": "https://localhost:8080/"
        },
        "id": "kAhg_NCkqdOn",
        "outputId": "439ab749-4854-45f5-c37c-3c4a2c690c5d"
      },
      "execution_count": null,
      "outputs": [
        {
          "output_type": "execute_result",
          "data": {
            "text/plain": [
              "11"
            ]
          },
          "metadata": {},
          "execution_count": 4
        }
      ]
    },
    {
      "cell_type": "code",
      "source": [
        "5**2"
      ],
      "metadata": {
        "colab": {
          "base_uri": "https://localhost:8080/"
        },
        "id": "2o_5xxM6vzF6",
        "outputId": "0ecbbd31-6e23-4854-df47-6ee01f0e4a1e"
      },
      "execution_count": null,
      "outputs": [
        {
          "output_type": "execute_result",
          "data": {
            "text/plain": [
              "25"
            ]
          },
          "metadata": {},
          "execution_count": 5
        }
      ]
    },
    {
      "cell_type": "code",
      "source": [
        "19//2"
      ],
      "metadata": {
        "colab": {
          "base_uri": "https://localhost:8080/"
        },
        "id": "GYgZgOh8v2-6",
        "outputId": "d74544f9-b1e2-4abe-8c15-1c88180a75a7"
      },
      "execution_count": null,
      "outputs": [
        {
          "output_type": "execute_result",
          "data": {
            "text/plain": [
              "9"
            ]
          },
          "metadata": {},
          "execution_count": 7
        }
      ]
    },
    {
      "cell_type": "code",
      "source": [
        "19/2"
      ],
      "metadata": {
        "colab": {
          "base_uri": "https://localhost:8080/"
        },
        "id": "HGiND6B_v4hf",
        "outputId": "e1703750-e3a7-4715-c76c-00aad5f43e30"
      },
      "execution_count": null,
      "outputs": [
        {
          "output_type": "execute_result",
          "data": {
            "text/plain": [
              "9.5"
            ]
          },
          "metadata": {},
          "execution_count": 8
        }
      ]
    },
    {
      "cell_type": "code",
      "source": [
        "18%2"
      ],
      "metadata": {
        "colab": {
          "base_uri": "https://localhost:8080/"
        },
        "id": "4ggHT6GXv67I",
        "outputId": "c11c96e0-8d82-4aed-b078-8ef7caf18073"
      },
      "execution_count": null,
      "outputs": [
        {
          "output_type": "execute_result",
          "data": {
            "text/plain": [
              "0"
            ]
          },
          "metadata": {},
          "execution_count": 9
        }
      ]
    },
    {
      "cell_type": "code",
      "source": [
        " 365**522"
      ],
      "metadata": {
        "colab": {
          "base_uri": "https://localhost:8080/"
        },
        "id": "m0kmDRZ_wKTq",
        "outputId": "146dc59c-025b-4711-842e-9d1c1f6d0098"
      },
      "execution_count": null,
      "outputs": [
        {
          "output_type": "execute_result",
          "data": {
            "text/plain": [
              "328757179819813422897342196080764612107983831743389023624405255670690832060848221824306724753890685373501884093100548274222202663446608298512276776135446705469491814539803873642610394430773633554403355416974854007035755228889612424513374927559842603441418654104461280145637681789303089629527662565782973169473632613892227202558852797417890403781298627935060943131553207847071012503628934101032568553492005722471235231175395508478579666737993774691221615401882520433870241816456538902550621493799034888700490988180773993600803740261912173392899204969073991772519053632900131878746604281127190866631915762608689816806771836872415722791565149632176594565096318733265520269878534562068905210887036910677779213731152584356530644171389622698260088337435627254504382786190234343066196447449762641236425340982756792144082378252527121431558389772373943718349561294131169636736255312634653334887203122825969534260679785514411488205619827582773094708191924556184435978863549262949792896533760832798285965554733612854129717778632012055700151978056791790524010052527327495001179716488946524725767902738384512922791579787066666412111532082155241351220020125791273120398070293320004319283837665370506925822282513313193463726035323295851514647384470993862048857953573304447474731813602449983852690376567914012245243127186000720030278898775577545166015625"
            ]
          },
          "metadata": {},
          "execution_count": 10
        }
      ]
    },
    {
      "cell_type": "code",
      "source": [
        "pow(4,3)\n"
      ],
      "metadata": {
        "colab": {
          "base_uri": "https://localhost:8080/"
        },
        "id": "rFPZ1Om9wQQU",
        "outputId": "5f5fb0ec-0c41-40a4-fe60-522d1dde2f03"
      },
      "execution_count": null,
      "outputs": [
        {
          "output_type": "execute_result",
          "data": {
            "text/plain": [
              "64"
            ]
          },
          "metadata": {},
          "execution_count": 11
        }
      ]
    },
    {
      "cell_type": "code",
      "source": [
        "print('='*20)"
      ],
      "metadata": {
        "colab": {
          "base_uri": "https://localhost:8080/"
        },
        "id": "TfS1fgmnwZnz",
        "outputId": "43becb5d-e4b2-4ea1-e361-324e80164b22"
      },
      "execution_count": null,
      "outputs": [
        {
          "output_type": "stream",
          "name": "stdout",
          "text": [
            "====================\n"
          ]
        }
      ]
    },
    {
      "cell_type": "code",
      "source": [
        "name = input('qual é seu nome?')\n",
        "print('prazer em te conhecer {:^20}!'.format(name))"
      ],
      "metadata": {
        "colab": {
          "base_uri": "https://localhost:8080/"
        },
        "id": "4fEi_i6Vw5rR",
        "outputId": "b54c6542-2c1f-4e19-f74f-2e0aa48c99b9"
      },
      "execution_count": null,
      "outputs": [
        {
          "output_type": "stream",
          "name": "stdout",
          "text": [
            "qual é seu nome?dsda\n",
            "prazer em te conhecer         dsda        !\n"
          ]
        }
      ]
    },
    {
      "cell_type": "code",
      "source": [
        "n1 = int(input('um valor: '))\n",
        "n2 = int(input('outro valor:'))\n",
        "print('a soma vale {}'.format(n1+n2))\n"
      ],
      "metadata": {
        "colab": {
          "base_uri": "https://localhost:8080/"
        },
        "id": "BfItk0V8yG5v",
        "outputId": "6ecd9c9e-cd43-4a8a-f0a2-44c1a24d130f"
      },
      "execution_count": null,
      "outputs": [
        {
          "output_type": "stream",
          "name": "stdout",
          "text": [
            "um valor: 23\n",
            "outro valor:1\n",
            "a soma vale 24\n"
          ]
        }
      ]
    },
    {
      "cell_type": "code",
      "source": [
        "n1 = int(input('um valor:'))\n",
        "n2 = int(input('outro valor:'))\n",
        "\n",
        "s = n1 + n2\n",
        "m = n1 * n2\n",
        "d = n1 / n2\n",
        "di = n1 // n2\n",
        "e = n1 ** n2\n",
        "print('a soma é {}, o produto é {} e a divisão é {}'.format(s,m,d))\n",
        "print('Divisão inteira {} e potencia {}'.format(di,e))"
      ],
      "metadata": {
        "colab": {
          "base_uri": "https://localhost:8080/"
        },
        "id": "RuuvRvAFzb89",
        "outputId": "a4d681d0-bdbc-4feb-99cc-408ad817c072"
      },
      "execution_count": null,
      "outputs": [
        {
          "output_type": "stream",
          "name": "stdout",
          "text": [
            "um valor:10\n",
            "outro valor:5\n",
            "a soma é 15, o produto é 50 e a divisão é 2.0\n",
            "Divisão inteira 2 e potencia 100000\n"
          ]
        }
      ]
    },
    {
      "cell_type": "code",
      "source": [
        "n1 = int(input('um valor: '))\n",
        "n2 = int(input('outro valor: '))\n",
        "\n",
        "s = n1 + n2\n",
        "m = n1 * n2\n",
        "d = n1 / n2\n",
        "di = n1 // n2\n",
        "e = n1 ** n2\n",
        "print('a some é {},o produto é {} e a divisão é {:.3f}'.format(s,m,d))\n",
        "print('Divisão inteira {} e a potencia {}'.format(di,e))"
      ],
      "metadata": {
        "colab": {
          "base_uri": "https://localhost:8080/"
        },
        "id": "UDIPlvVY0mIS",
        "outputId": "ba41f476-c827-49b6-d634-f5d94c5e9c81"
      },
      "execution_count": null,
      "outputs": [
        {
          "output_type": "stream",
          "name": "stdout",
          "text": [
            "um valor: 4\n",
            "outro valor: 3\n",
            "a some é 7,o produto é 12 e a divisão é 1.333\n",
            "Divisão inteira 1 e a potencia 64\n"
          ]
        }
      ]
    },
    {
      "cell_type": "markdown",
      "source": [
        "#Fase 8\n"
      ],
      "metadata": {
        "id": "RqgpGYbDXthK"
      }
    },
    {
      "cell_type": "markdown",
      "source": [
        "#trabalhando com Módulos\n",
        "\n",
        "* IMPORT\n",
        "import(palavra) --- ira abrir a biblioteca da tal palavra e trará tudo\n",
        "\n",
        "from palavra import algo dentro dessa palavra ---vai trazer apenas uma coisa especifica de dentro da palavra\n"
      ],
      "metadata": {
        "id": "snzwhzSVX6k2"
      }
    },
    {
      "cell_type": "markdown",
      "source": [
        "#Módulos\n",
        "\n",
        "* math\n",
        "   ceil - arredonda um numero para cima\n",
        "  floor - arredonda um numero para baixo\n",
        "  trunc - ira eliminar a partir da virgula\n",
        "  pow - potencia\n",
        "  sqrt - raiz quadrada\n",
        "  factorial - fatorial\n",
        "\n",
        " EX: import math \n",
        "\n",
        "\n",
        " from math import sqrt\n",
        "\n",
        " from math import sqrt , ceil"
      ],
      "metadata": {
        "id": "BuL5HuOFYRUF"
      }
    },
    {
      "cell_type": "markdown",
      "source": [
        "#Pratica"
      ],
      "metadata": {
        "id": "-nO0t0YXco88"
      }
    },
    {
      "cell_type": "code",
      "source": [
        "import math\n",
        "num = int(input('digite um numero: '))\n",
        "raiz = math.sqrt(num)\n",
        "print('A raiz de {} é igual a {}'.format(num , raiz))"
      ],
      "metadata": {
        "colab": {
          "base_uri": "https://localhost:8080/"
        },
        "id": "6mvnP8YGcZGe",
        "outputId": "45b53b82-0bd0-4ec9-e637-5fe97f6ab38a"
      },
      "execution_count": 2,
      "outputs": [
        {
          "output_type": "stream",
          "name": "stdout",
          "text": [
            "digite um numero: 81\n",
            "A raiz de 81 é igual a 9.0\n"
          ]
        }
      ]
    },
    {
      "cell_type": "code",
      "source": [
        "from math import sqrt , floor\n",
        "num = int(input('escreva um numero: '))\n",
        "raiz = sqrt(num)\n",
        "print('A raiz de {} é igual a {}'.format(num , floor(raiz)))"
      ],
      "metadata": {
        "colab": {
          "base_uri": "https://localhost:8080/"
        },
        "id": "801vytOidAwG",
        "outputId": "e0b2c8c7-241d-4902-888d-3e3ceb5b9002"
      },
      "execution_count": 5,
      "outputs": [
        {
          "output_type": "stream",
          "name": "stdout",
          "text": [
            "escreva um numero: 29\n",
            "A raiz de 29 é igual a 5\n"
          ]
        }
      ]
    },
    {
      "cell_type": "code",
      "source": [
        ""
      ],
      "metadata": {
        "id": "iVAxyPDoeQZc"
      },
      "execution_count": null,
      "outputs": []
    }
  ]
}