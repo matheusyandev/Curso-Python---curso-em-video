{
  "nbformat": 4,
  "nbformat_minor": 0,
  "metadata": {
    "colab": {
      "name": "python Matheus.ipynb",
      "provenance": [],
      "authorship_tag": "ABX9TyM10R1svWDzvvL9aEnZhpSc",
      "include_colab_link": true
    },
    "kernelspec": {
      "name": "python3",
      "display_name": "Python 3"
    },
    "language_info": {
      "name": "python"
    }
  },
  "cells": [
    {
      "cell_type": "markdown",
      "metadata": {
        "id": "view-in-github",
        "colab_type": "text"
      },
      "source": [
        "<a href=\"https://colab.research.google.com/github/matheusyandev/Curso-Python---curso-em-video/blob/main/python_Matheus.ipynb\" target=\"_parent\"><img src=\"https://colab.research.google.com/assets/colab-badge.svg\" alt=\"Open In Colab\"/></a>"
      ]
    },
    {
      "cell_type": "markdown",
      "source": [
        "#Desafio 01\n",
        "Crie um script Python que leia o nome de uma pessoa e mostre uma mensagem de boas-vindas de acordo com o valor digitado"
      ],
      "metadata": {
        "id": "mBWFJi7gn6of"
      }
    },
    {
      "cell_type": "code",
      "execution_count": null,
      "metadata": {
        "id": "4ZTZb4CcnkZ8"
      },
      "outputs": [],
      "source": [
        "name=input('qual é o seu nome?')\n",
        "print('Seja bem vindo',name,'prazer em conhece-lo')"
      ]
    },
    {
      "cell_type": "markdown",
      "source": [
        "# Desafio 02\n",
        "\n",
        "Crie um script python que leia o dia,mes e o ano de nascimento de uma pessoa e mostre uma mensgem com a data formatada\n"
      ],
      "metadata": {
        "id": "o-6IO5nUoHnc"
      }
    },
    {
      "cell_type": "code",
      "source": [
        "dia=input('dia=')\n",
        "mes=input('mes=')\n",
        "ano=input('ano=')\n",
        "print('voce nasceu no dia',dia,'do',mes,'de',ano,)"
      ],
      "metadata": {
        "colab": {
          "base_uri": "https://localhost:8080/"
        },
        "id": "dTjxeQ85oZ8K",
        "outputId": "bc78ea8b-cfd0-4890-a40d-27c5dac6e045"
      },
      "execution_count": 1,
      "outputs": [
        {
          "output_type": "stream",
          "name": "stdout",
          "text": [
            "dia=20\n",
            "mes=4\n",
            "ano=2009\n",
            "voce nasceu no dia 20 de 4 de 2009\n"
          ]
        }
      ]
    },
    {
      "cell_type": "markdown",
      "source": [
        "#desafio 03\n",
        "Crie um script Python que leia dois numeros e tente mostrar a soma entre eles"
      ],
      "metadata": {
        "id": "CDEHMYZDqACS"
      }
    },
    {
      "cell_type": "code",
      "source": [
        "a=input('escreva um numero: ')\n",
        "b=input('escreva um segundo numero: ')\n",
        "s=a+b\n",
        "print('a soma entre os dois numeros é',s)"
      ],
      "metadata": {
        "colab": {
          "base_uri": "https://localhost:8080/"
        },
        "id": "Q9q0FBsUqmGh",
        "outputId": "f0789432-509c-43b0-86ad-1887c985f8c2"
      },
      "execution_count": 5,
      "outputs": [
        {
          "output_type": "stream",
          "name": "stdout",
          "text": [
            "escreva um numero: 1\n",
            "escreva um segundo numero: 4\n",
            "a soma entre os dois numeros é 14\n"
          ]
        }
      ]
    }
  ]
}