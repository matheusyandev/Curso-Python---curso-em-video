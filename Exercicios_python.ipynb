{
  "nbformat": 4,
  "nbformat_minor": 0,
  "metadata": {
    "colab": {
      "name": "Exercicios python.ipynb",
      "provenance": [],
      "authorship_tag": "ABX9TyNGTiQ0O8z7eBQprK3OFkON",
      "include_colab_link": true
    },
    "kernelspec": {
      "name": "python3",
      "display_name": "Python 3"
    },
    "language_info": {
      "name": "python"
    }
  },
  "cells": [
    {
      "cell_type": "markdown",
      "metadata": {
        "id": "view-in-github",
        "colab_type": "text"
      },
      "source": [
        "<a href=\"https://colab.research.google.com/github/matheusyandev/Curso-Python---curso-em-video/blob/main/Exercicios_python.ipynb\" target=\"_parent\"><img src=\"https://colab.research.google.com/assets/colab-badge.svg\" alt=\"Open In Colab\"/></a>"
      ]
    },
    {
      "cell_type": "markdown",
      "source": [
        "#Desafio 001\n",
        "Crie um programa que escreva \"Olá,Mundo!\"na tela."
      ],
      "metadata": {
        "id": "Jq68XTOByD5V"
      }
    },
    {
      "cell_type": "code",
      "execution_count": 2,
      "metadata": {
        "colab": {
          "base_uri": "https://localhost:8080/"
        },
        "id": "xbN1SpisuQhP",
        "outputId": "0d5edb90-4613-4512-9aeb-605ead9f05b1"
      },
      "outputs": [
        {
          "output_type": "stream",
          "name": "stdout",
          "text": [
            "Olá,Mundo!\n"
          ]
        }
      ],
      "source": [
        "print('Olá,Mundo!')"
      ]
    },
    {
      "cell_type": "markdown",
      "source": [
        "#Desafio 002\n",
        "Faça um rograma que leia o nome de uma pessoa e mostre uma mensagem de boas-vindas"
      ],
      "metadata": {
        "id": "G-abdZvy2dRn"
      }
    },
    {
      "cell_type": "code",
      "source": [
        "name = input('Digite seu nome: ')\n",
        "print('Seja bem vindo',name,'prazer em conhece-lo')"
      ],
      "metadata": {
        "colab": {
          "base_uri": "https://localhost:8080/"
        },
        "id": "AoivFd4j2j3p",
        "outputId": "96ea0fcd-4793-4014-fd03-e18a7bf9206a"
      },
      "execution_count": 5,
      "outputs": [
        {
          "output_type": "stream",
          "name": "stdout",
          "text": [
            "Digite seu nome: pedro\n",
            "Seja bem vindo pedro prazer em conhece-lo\n"
          ]
        }
      ]
    },
    {
      "cell_type": "markdown",
      "source": [
        "#Desafio 003\n",
        "Crie um programa que leia dois numeros e mostre a soma entre eles "
      ],
      "metadata": {
        "id": "0SzVJ8U746AY"
      }
    },
    {
      "cell_type": "code",
      "source": [
        "n1 = int(input('escreva um numero: '))\n",
        "n2 = int(input('escreva mais um: ' ))\n",
        "s = n1 + n2\n",
        "print('a some entre {} e {} é {}'.format(n1,n2,s))"
      ],
      "metadata": {
        "colab": {
          "base_uri": "https://localhost:8080/"
        },
        "id": "wQIy_Ksqo84B",
        "outputId": "21099547-f2ef-481f-e4ed-9e81009645ad"
      },
      "execution_count": 5,
      "outputs": [
        {
          "output_type": "stream",
          "name": "stdout",
          "text": [
            "escreva um numero: 2\n",
            "escreva mais um: 4\n",
            "a some entre 2 e 4 é 6\n"
          ]
        }
      ]
    },
    {
      "cell_type": "markdown",
      "source": [
        "#Desafio 005\n",
        "Faça um pograma que leia um numero inteiro e mostre na tela o seu sucessor seu antecessor"
      ],
      "metadata": {
        "id": "ESggurvs59KI"
      }
    },
    {
      "cell_type": "code",
      "source": [
        "n1 = int(input('escreva um numero:'))\n",
        "m = n1+1\n",
        "n = n1-1\n",
        "print('seu sucessor é {} e seu antecessor é {}'.format(m,n))"
      ],
      "metadata": {
        "colab": {
          "base_uri": "https://localhost:8080/"
        },
        "id": "tR-n0dId6QpS",
        "outputId": "208c6948-4963-4149-acac-b3891ff57ef7"
      },
      "execution_count": 9,
      "outputs": [
        {
          "output_type": "stream",
          "name": "stdout",
          "text": [
            "escreva um numero:5\n",
            "seu sucessor é 6 e seu antecessor é 4\n"
          ]
        }
      ]
    },
    {
      "cell_type": "code",
      "source": [
        ""
      ],
      "metadata": {
        "id": "vre9Ajrv7EEn"
      },
      "execution_count": null,
      "outputs": []
    },
    {
      "cell_type": "markdown",
      "source": [
        "#Desafio 006\n",
        "Crie um algoritimo que leia um numero e mostre o seu dobro,triplo e raiz quadrada"
      ],
      "metadata": {
        "id": "X_4tUwbL7JoS"
      }
    },
    {
      "cell_type": "code",
      "source": [
        "n1 = int(input('escreva um numero:'))\n",
        "m = n1*2\n",
        "t = n1*3\n",
        "r = n1**2\n",
        "print('o dobro do seu numero é {} seu triplo é {} e sua raiz quadrada é {}'.format(m,t,r))"
      ],
      "metadata": {
        "colab": {
          "base_uri": "https://localhost:8080/"
        },
        "id": "9XkE5ZSC7RqY",
        "outputId": "bc2837cd-ae05-4c4c-af1a-f31c20f0651c"
      },
      "execution_count": 21,
      "outputs": [
        {
          "output_type": "stream",
          "name": "stdout",
          "text": [
            "escreva um numero:5\n",
            "o dobro do seu numero é 10 seu triplo é 15 e sua raiz quadrada é 25\n"
          ]
        }
      ]
    },
    {
      "cell_type": "markdown",
      "source": [
        "#Desafio 007\n",
        "Desenvolva um programa que leia as duas notas de um aluno,calcule e mostre sua media"
      ],
      "metadata": {
        "id": "ex4UX4c89vxv"
      }
    },
    {
      "cell_type": "code",
      "source": [
        "n1 = int(input('sua nota:'))\n",
        "n2 = int(input('sua outra nota:'))\n",
        "s = (n1+n2)/2\n",
        "print('Você tirou {} e {} nessa materia,sua media é {}'.format(n1,n2,s))"
      ],
      "metadata": {
        "colab": {
          "base_uri": "https://localhost:8080/"
        },
        "id": "Dwv-FaLn8JoK",
        "outputId": "333fe966-dd4c-4763-dafe-93484bd6f86f"
      },
      "execution_count": 23,
      "outputs": [
        {
          "output_type": "stream",
          "name": "stdout",
          "text": [
            "sua nota:7\n",
            "sua outra nota:9\n",
            "Você tirou 7 e 9 nessa materia,sua media é 8.0\n"
          ]
        }
      ]
    },
    {
      "cell_type": "markdown",
      "source": [
        "#Desafio 008\n",
        "Escreva um programa que leia um valor em metros e o exiba convertido em centimetros e milimetros"
      ],
      "metadata": {
        "id": "LgoDOfbr_FYH"
      }
    },
    {
      "cell_type": "code",
      "source": [
        "n1 = int(input('escreva seu numero de metros:'))\n",
        "c = n1*100\n",
        "m = n1*1000\n",
        "print('seu valor em metros é {},em centimetros é {} e em milimetros é {}'.format(n1,c,m))"
      ],
      "metadata": {
        "colab": {
          "base_uri": "https://localhost:8080/"
        },
        "id": "CVh8t6h7-rkD",
        "outputId": "2a11d2a9-ab1d-4604-93ef-2b31a15e76e1"
      },
      "execution_count": 25,
      "outputs": [
        {
          "output_type": "stream",
          "name": "stdout",
          "text": [
            "escreva seu numero de metros:20\n",
            "seu valor em metros é 20,em centimetros é 2000 e em milimetros é 20000\n"
          ]
        }
      ]
    },
    {
      "cell_type": "markdown",
      "source": [
        "#Desafio 009\n",
        "Faça um programa que leia um numero inteiro qualquer e mostre na tela sua tabuada"
      ],
      "metadata": {
        "id": "mzVJQKyVAMKe"
      }
    },
    {
      "cell_type": "code",
      "source": [
        "n1 = int(input('escreva um numero:'))\n",
        "a = n1*2\n",
        "b = n1*3\n",
        "c = n1*4\n",
        "d = n1*5\n",
        "e = n1*6\n",
        "f = n1*7\n",
        "g = n1*8\n",
        "h = n1*9\n",
        "i = n1*0\n",
        "print('A tabuada do seu numero é {},{},{},{},{},{},{},{},{}'.format(a,b,c,d,e,f,g,h,i))\n"
      ],
      "metadata": {
        "colab": {
          "base_uri": "https://localhost:8080/"
        },
        "id": "GiDAwoaFAIpO",
        "outputId": "79e4257f-754f-425e-bc22-9cdb22636598"
      },
      "execution_count": 28,
      "outputs": [
        {
          "output_type": "stream",
          "name": "stdout",
          "text": [
            "escreva um numero:2\n",
            "A tabuada do seu numero é 4,6,8,10,12,14,16,18,0\n"
          ]
        }
      ]
    },
    {
      "cell_type": "markdown",
      "source": [
        "#Desafio 010\n",
        "Crie um programa que leia quanto dinheiro uma pessoa tem na carteira e mostre quantos dolares ela pode comprar\n",
        "(considere o dolar US$=1.00 = RS3.27)"
      ],
      "metadata": {
        "id": "sJ7aQfhEALmr"
      }
    },
    {
      "cell_type": "code",
      "source": [
        "n1 = int(input('Digite quanto dinheiro você tem na sua conta:'))\n",
        "q = n1/3.27\n",
        "print('você conseguira comprar {:.2f} dolares'.format(q))"
      ],
      "metadata": {
        "colab": {
          "base_uri": "https://localhost:8080/"
        },
        "id": "u9R8DS0ICExl",
        "outputId": "6194417d-bf0a-4aa9-e98e-b21374ce35d6"
      },
      "execution_count": 34,
      "outputs": [
        {
          "output_type": "stream",
          "name": "stdout",
          "text": [
            "Digite quanto dinheiro você tem na sua conta:10\n",
            "você conseguira comprar 3.06 dolares\n"
          ]
        }
      ]
    },
    {
      "cell_type": "code",
      "source": [
        "n1 = int(input('Digite quanto dinheiro você tem na sua conta:'))\n",
        "q = n1/3.27\n",
        "print('você conseguira comprar {:.2f} dolares'.format(q))"
      ],
      "metadata": {
        "colab": {
          "base_uri": "https://localhost:8080/"
        },
        "id": "OYjWmy1nCv6o",
        "outputId": "ea7ddbd6-e47c-4dc4-95ab-aab382796a73"
      },
      "execution_count": 36,
      "outputs": [
        {
          "output_type": "stream",
          "name": "stdout",
          "text": [
            "Digite quanto dinheiro você tem na sua conta:2000\n",
            "você conseguira comprar 611.62 dolares\n"
          ]
        }
      ]
    },
    {
      "cell_type": "markdown",
      "source": [
        "#Desafio 011\n",
        "Faça um programa que leia a largura e altura de uma parede em metros,calcule sua área e a quantidade de tinta necessaria para pinta-la,sabendo que cada litro de tinta,pinta uma área de 2m"
      ],
      "metadata": {
        "id": "YmVTpiVcEJS9"
      }
    },
    {
      "cell_type": "code",
      "source": [
        "n1 = int(input('Digite a largura:'))\n",
        "n2 = int(input('Digite a altura:'))\n",
        "c = n1*n2\n",
        "t = c/2\n",
        "print('A Àrea da sua parede é de {}m²,você vai ter que usar {} litros de tinta para pinta-la'.format(c,t))"
      ],
      "metadata": {
        "colab": {
          "base_uri": "https://localhost:8080/"
        },
        "id": "tni3NhWvEDeG",
        "outputId": "755bfc62-fd25-4dac-aabf-3eab0fb7b07f"
      },
      "execution_count": 41,
      "outputs": [
        {
          "output_type": "stream",
          "name": "stdout",
          "text": [
            "Digite a largura:6\n",
            "Digite a altura:4\n",
            "A Àrea da sua parede é de 24m²,você vai ter que usar 12.0 litros de tinta para pinta-la\n"
          ]
        }
      ]
    },
    {
      "cell_type": "markdown",
      "source": [
        "#Desafio 012\n",
        "Faça um algoritimo que faça o preço de um produto e mostre seu novo preço.com 5% de desconto"
      ],
      "metadata": {
        "id": "gFtd2FPnHnjF"
      }
    },
    {
      "cell_type": "code",
      "source": [
        "n1 = float(input('preço do produto: '))\n",
        "c = (5*n1)/100\n",
        "t = n1-c\n",
        "print('O preço novo do produto é de {}'.format(t))"
      ],
      "metadata": {
        "colab": {
          "base_uri": "https://localhost:8080/"
        },
        "id": "MBriGwhWH_aY",
        "outputId": "60c3e0c7-2853-4dc6-a79d-a9deb451ed8a"
      },
      "execution_count": 54,
      "outputs": [
        {
          "output_type": "stream",
          "name": "stdout",
          "text": [
            "preço do produto: 24\n",
            "O preço novo do produto é de 22.8\n"
          ]
        }
      ]
    },
    {
      "cell_type": "markdown",
      "source": [
        "#Desafio 013\n",
        "Faça um algoritimo que leia o salaro de um funcionario e mostre seu novo salario,com 15% de aumento."
      ],
      "metadata": {
        "id": "aO4046y4NlRF"
      }
    },
    {
      "cell_type": "code",
      "source": [
        ""
      ],
      "metadata": {
        "id": "o3U4dhlERHU-"
      },
      "execution_count": null,
      "outputs": []
    },
    {
      "cell_type": "code",
      "source": [
        "n1 = float(input('digite seu salario:'))\n",
        "c = n1 * (1 + 15 / 100)\n",
        "print('Seu novo salario é de {:.2f}'.format(c))"
      ],
      "metadata": {
        "colab": {
          "base_uri": "https://localhost:8080/"
        },
        "id": "sQzS8n-_IG20",
        "outputId": "3de2e562-3602-4070-fb83-f43901446214"
      },
      "execution_count": 63,
      "outputs": [
        {
          "output_type": "stream",
          "name": "stdout",
          "text": [
            "digite seu salario:1500\n",
            "Seu novo salario é de 1725.00\n"
          ]
        }
      ]
    },
    {
      "cell_type": "markdown",
      "source": [
        ""
      ],
      "metadata": {
        "id": "nFfoTJZ8NkqK"
      }
    }
  ]
}