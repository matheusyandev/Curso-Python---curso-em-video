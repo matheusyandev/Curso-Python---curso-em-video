{
  "nbformat": 4,
  "nbformat_minor": 0,
  "metadata": {
    "colab": {
      "name": "Exercicios python.ipynb",
      "provenance": [],
      "authorship_tag": "ABX9TyNVE14AYeuJU3IQPuECiCOr",
      "include_colab_link": true
    },
    "kernelspec": {
      "name": "python3",
      "display_name": "Python 3"
    },
    "language_info": {
      "name": "python"
    }
  },
  "cells": [
    {
      "cell_type": "markdown",
      "metadata": {
        "id": "view-in-github",
        "colab_type": "text"
      },
      "source": [
        "<a href=\"https://colab.research.google.com/github/matheusyandev/Curso-Python---curso-em-video/blob/main/Exercicios_python.ipynb\" target=\"_parent\"><img src=\"https://colab.research.google.com/assets/colab-badge.svg\" alt=\"Open In Colab\"/></a>"
      ]
    },
    {
      "cell_type": "markdown",
      "source": [
        "#Desafio 001\n",
        "Crie um programa que escreva \"Olá,Mundo!\"na tela."
      ],
      "metadata": {
        "id": "Jq68XTOByD5V"
      }
    },
    {
      "cell_type": "code",
      "execution_count": 2,
      "metadata": {
        "colab": {
          "base_uri": "https://localhost:8080/"
        },
        "id": "xbN1SpisuQhP",
        "outputId": "0d5edb90-4613-4512-9aeb-605ead9f05b1"
      },
      "outputs": [
        {
          "output_type": "stream",
          "name": "stdout",
          "text": [
            "Olá,Mundo!\n"
          ]
        }
      ],
      "source": [
        "print('Olá,Mundo!')"
      ]
    },
    {
      "cell_type": "markdown",
      "source": [
        "#Desafio 002\n",
        "Faça um rograma que leia o nome de uma pessoa e mostre uma mensagem de boas-vindas"
      ],
      "metadata": {
        "id": "G-abdZvy2dRn"
      }
    },
    {
      "cell_type": "code",
      "source": [
        "name = input('Digite seu nome: ')\n",
        "print('Seja bem vindo',name,'prazer em conhece-lo')"
      ],
      "metadata": {
        "colab": {
          "base_uri": "https://localhost:8080/"
        },
        "id": "AoivFd4j2j3p",
        "outputId": "96ea0fcd-4793-4014-fd03-e18a7bf9206a"
      },
      "execution_count": 5,
      "outputs": [
        {
          "output_type": "stream",
          "name": "stdout",
          "text": [
            "Digite seu nome: pedro\n",
            "Seja bem vindo pedro prazer em conhece-lo\n"
          ]
        }
      ]
    },
    {
      "cell_type": "markdown",
      "source": [
        "#Desafio 003\n",
        "Crie um programa que leia dois numeros e mostre a soma entre eles "
      ],
      "metadata": {
        "id": "0SzVJ8U746AY"
      }
    },
    {
      "cell_type": "code",
      "source": [
        "n1 = int(input('escreva um numero: '))\n",
        "n2 = int(input('escreva outro: '))\n",
        "s = n1 + n2\n",
        "print('a soma entre os valores {} e {} é {}'.format(n1,n2,s))"
      ],
      "metadata": {
        "colab": {
          "base_uri": "https://localhost:8080/"
        },
        "id": "1OUF3C8cH_yQ",
        "outputId": "95fdb69f-dfcb-4f75-f0e6-56fa2a4e59e4"
      },
      "execution_count": 8,
      "outputs": [
        {
          "output_type": "stream",
          "name": "stdout",
          "text": [
            "escreva um numero: 34\n",
            "escreva outro: 21\n",
            "a soma entre os valores 34 e 21 é 55\n"
          ]
        }
      ]
    },
    {
      "cell_type": "markdown",
      "source": [
        "#Desafio 004\n",
        "Faça um programa que leia algo pelo teclado e mostre na tela o seu tipo primitivo e todas as informaçoes possiveis sobre ele."
      ],
      "metadata": {
        "id": "rAp456KbI7i6"
      }
    },
    {
      "cell_type": "code",
      "source": [
        "n = (input('digite um valor: '))\n",
        "print(type (n))"
      ],
      "metadata": {
        "colab": {
          "base_uri": "https://localhost:8080/"
        },
        "id": "EP9HjMMCJHPM",
        "outputId": "85a80503-9450-4227-fa61-b945c53aa082"
      },
      "execution_count": 16,
      "outputs": [
        {
          "output_type": "stream",
          "name": "stdout",
          "text": [
            "digite um valor: 2,3\n",
            "<class 'str'>\n"
          ]
        }
      ]
    },
    {
      "cell_type": "code",
      "source": [
        "n = (input('digite um valor: '))\n",
        "print(n.isnumeric())"
      ],
      "metadata": {
        "colab": {
          "base_uri": "https://localhost:8080/"
        },
        "id": "4VnUzLrsJ3g3",
        "outputId": "b37befed-2425-4f5e-fa12-eaad6e2e3ea0"
      },
      "execution_count": 20,
      "outputs": [
        {
          "output_type": "stream",
          "name": "stdout",
          "text": [
            "digite um valor: 2\n",
            "True\n"
          ]
        }
      ]
    }
  ]
}