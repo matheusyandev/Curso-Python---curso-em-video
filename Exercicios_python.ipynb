{
  "nbformat": 4,
  "nbformat_minor": 0,
  "metadata": {
    "colab": {
      "name": "Exercicios python.ipynb",
      "provenance": [],
      "authorship_tag": "ABX9TyM45cmPnicy50v4OCHqnFzD",
      "include_colab_link": true
    },
    "kernelspec": {
      "name": "python3",
      "display_name": "Python 3"
    },
    "language_info": {
      "name": "python"
    }
  },
  "cells": [
    {
      "cell_type": "markdown",
      "metadata": {
        "id": "view-in-github",
        "colab_type": "text"
      },
      "source": [
        "<a href=\"https://colab.research.google.com/github/matheusyandev/Curso-Python---curso-em-video/blob/main/Exercicios_python.ipynb\" target=\"_parent\"><img src=\"https://colab.research.google.com/assets/colab-badge.svg\" alt=\"Open In Colab\"/></a>"
      ]
    },
    {
      "cell_type": "markdown",
      "source": [
        "#Desafio 001\n",
        "Crie um programa que escreva \"Olá,Mundo!\"na tela."
      ],
      "metadata": {
        "id": "Jq68XTOByD5V"
      }
    },
    {
      "cell_type": "code",
      "execution_count": 2,
      "metadata": {
        "colab": {
          "base_uri": "https://localhost:8080/"
        },
        "id": "xbN1SpisuQhP",
        "outputId": "0d5edb90-4613-4512-9aeb-605ead9f05b1"
      },
      "outputs": [
        {
          "output_type": "stream",
          "name": "stdout",
          "text": [
            "Olá,Mundo!\n"
          ]
        }
      ],
      "source": [
        "print('Olá,Mundo!')"
      ]
    },
    {
      "cell_type": "markdown",
      "source": [
        "#Desafio 002\n",
        "Faça um rograma que leia o nome de uma pessoa e mostre uma mensagem de boas-vindas"
      ],
      "metadata": {
        "id": "G-abdZvy2dRn"
      }
    },
    {
      "cell_type": "code",
      "source": [
        "name = input('Digite seu nome: ')\n",
        "print('Seja bem vindo', name, 'prazer em conhecê-lo')"
      ],
      "metadata": {
        "colab": {
          "base_uri": "https://localhost:8080/"
        },
        "id": "AoivFd4j2j3p",
        "outputId": "96ea0fcd-4793-4014-fd03-e18a7bf9206a"
      },
      "execution_count": 5,
      "outputs": [
        {
          "output_type": "stream",
          "name": "stdout",
          "text": [
            "Digite seu nome: pedro\n",
            "Seja bem vindo pedro prazer em conhece-lo\n"
          ]
        }
      ]
    },
    {
      "cell_type": "markdown",
      "source": [
        "#Desafio 003\n",
        "Crie um programa que leia dois numeros e mostre a soma entre eles "
      ],
      "metadata": {
        "id": "0SzVJ8U746AY"
      }
    },
    {
      "cell_type": "code",
      "source": [
        "n1 = int(input('escreva um numero: '))\n",
        "n2 = int(input('escreva mais um: ' ))\n",
        "s = n1 + n2\n",
        "print('a some entre {} e {} é {}'.format(n1, n2, s))"
      ],
      "metadata": {
        "colab": {
          "base_uri": "https://localhost:8080/"
        },
        "id": "wQIy_Ksqo84B",
        "outputId": "21099547-f2ef-481f-e4ed-9e81009645ad"
      },
      "execution_count": 5,
      "outputs": [
        {
          "output_type": "stream",
          "name": "stdout",
          "text": [
            "escreva um numero: 2\n",
            "escreva mais um: 4\n",
            "a some entre 2 e 4 é 6\n"
          ]
        }
      ]
    },
    {
      "cell_type": "markdown",
      "source": [
        "#Desafio 005\n",
        "Faça um pograma que leia um numero inteiro e mostre na tela o seu sucessor seu antecessor"
      ],
      "metadata": {
        "id": "ESggurvs59KI"
      }
    },
    {
      "cell_type": "code",
      "source": [
        "n1 = int(input('escreva um numero:'))\n",
        "m = n1+1\n",
        "n = n1-1\n",
        "print('seu sucessor é {} e seu antecessor é {}'.format(m, n))"
      ],
      "metadata": {
        "colab": {
          "base_uri": "https://localhost:8080/"
        },
        "id": "tR-n0dId6QpS",
        "outputId": "208c6948-4963-4149-acac-b3891ff57ef7"
      },
      "execution_count": 9,
      "outputs": [
        {
          "output_type": "stream",
          "name": "stdout",
          "text": [
            "escreva um numero:5\n",
            "seu sucessor é 6 e seu antecessor é 4\n"
          ]
        }
      ]
    },
    {
      "cell_type": "markdown",
      "source": [
        "#Desafio 006\n",
        "Crie um algoritimo que leia um numero e mostre o seu dobro, triplo e raiz quadrada"
      ],
      "metadata": {
        "id": "X_4tUwbL7JoS"
      }
    },
    {
      "cell_type": "code",
      "source": [
        "import math\n",
        "\n",
        "n1 = int(input('escreva um numero:'))\n",
        "m = n1 * 2\n",
        "t = n1 * 3\n",
        "r = n1 \n",
        "print('o dobro do seu numero é {} seu triplo é {} e sua raiz quadrada é {}'.format(m, t, math.sqrt(r)))"
      ],
      "metadata": {
        "colab": {
          "base_uri": "https://localhost:8080/"
        },
        "id": "9XkE5ZSC7RqY",
        "outputId": "7e9beba5-b43d-4b69-cc1c-e0d61b38b431"
      },
      "execution_count": 3,
      "outputs": [
        {
          "output_type": "stream",
          "name": "stdout",
          "text": [
            "escreva um numero:25\n",
            "o dobro do seu numero é 50 seu triplo é 75 e sua raiz quadrada é 5.0\n"
          ]
        }
      ]
    },
    {
      "cell_type": "markdown",
      "source": [
        "#Desafio 007\n",
        "Desenvolva um programa que leia as duas notas de um aluno,calcule e mostre sua media"
      ],
      "metadata": {
        "id": "ex4UX4c89vxv"
      }
    },
    {
      "cell_type": "code",
      "source": [
        "n1 = int(input('sua nota:'))\n",
        "n2 = int(input('sua outra nota:'))\n",
        "s = (n1 + n2) / 2\n",
        "print('Você tirou {} e {} nessa materia, sua media é {}'.format(n1, n2, s))"
      ],
      "metadata": {
        "colab": {
          "base_uri": "https://localhost:8080/"
        },
        "id": "Dwv-FaLn8JoK",
        "outputId": "333fe966-dd4c-4763-dafe-93484bd6f86f"
      },
      "execution_count": 23,
      "outputs": [
        {
          "output_type": "stream",
          "name": "stdout",
          "text": [
            "sua nota:7\n",
            "sua outra nota:9\n",
            "Você tirou 7 e 9 nessa materia,sua media é 8.0\n"
          ]
        }
      ]
    },
    {
      "cell_type": "markdown",
      "source": [
        "#Desafio 008\n",
        "Escreva um programa que leia um valor em metros e o exiba convertido em centimetros e milimetros"
      ],
      "metadata": {
        "id": "LgoDOfbr_FYH"
      }
    },
    {
      "cell_type": "code",
      "source": [
        "n1 = int(input('escreva seu numero de metros: '))\n",
        "c = n1 * 100\n",
        "m = n1 * 1000\n",
        "print('seu valor em metros é {},em centimetros é {} e em milimetros é {}'.format(n1,c,m))"
      ],
      "metadata": {
        "colab": {
          "base_uri": "https://localhost:8080/"
        },
        "id": "CVh8t6h7-rkD",
        "outputId": "2a11d2a9-ab1d-4604-93ef-2b31a15e76e1"
      },
      "execution_count": 25,
      "outputs": [
        {
          "output_type": "stream",
          "name": "stdout",
          "text": [
            "escreva seu numero de metros:20\n",
            "seu valor em metros é 20,em centimetros é 2000 e em milimetros é 20000\n"
          ]
        }
      ]
    },
    {
      "cell_type": "markdown",
      "source": [
        "#Desafio 009\n",
        "Faça um programa que leia um numero inteiro qualquer e mostre na tela sua tabuada"
      ],
      "metadata": {
        "id": "mzVJQKyVAMKe"
      }
    },
    {
      "cell_type": "code",
      "source": [
        "n1 = int(input('escreva um numero: '))\n",
        "a = n1 * 1\n",
        "b = n1 * 2\n",
        "c = n1 * 3\n",
        "d = n1 * 4\n",
        "e = n1 * 5\n",
        "f = n1 * 6\n",
        "g = n1 * 7\n",
        "h = n1 * 8\n",
        "i = n1 * 9\n",
        "j = n1 * 10\n",
        "print('A tabuada do seu numero é: \\n {}\\n {}\\n {}\\n {}\\n {}\\n {}\\n {}\\n {}\\n {}\\n {}\\n'.format(a, b, c, d, e, f, g, h, i, j))\n"
      ],
      "metadata": {
        "colab": {
          "base_uri": "https://localhost:8080/"
        },
        "id": "GiDAwoaFAIpO",
        "outputId": "49c2aff4-d99c-430e-aee0-e3c0839f408c"
      },
      "execution_count": 77,
      "outputs": [
        {
          "output_type": "stream",
          "name": "stdout",
          "text": [
            "escreva um numero: 5\n",
            "A tabuada do seu numero é: \n",
            " 5\n",
            " 10\n",
            " 15\n",
            " 20\n",
            " 25\n",
            " 30\n",
            " 35\n",
            " 40\n",
            " 45\n",
            " 50\n",
            "\n"
          ]
        }
      ]
    },
    {
      "cell_type": "code",
      "source": [
        "number = int(input('Type a number: '))\n",
        "for i in range(11):\n",
        "  print(f'{i} X {number} = {i * number} ')"
      ],
      "metadata": {
        "colab": {
          "base_uri": "https://localhost:8080/"
        },
        "id": "SED5oUZ8a24z",
        "outputId": "7156e874-2a83-4d91-aabc-bded2f8c9a3d"
      },
      "execution_count": 82,
      "outputs": [
        {
          "output_type": "stream",
          "name": "stdout",
          "text": [
            "Type a number: 3\n",
            "0 X 3 = 0 \n",
            "1 X 3 = 3 \n",
            "2 X 3 = 6 \n",
            "3 X 3 = 9 \n",
            "4 X 3 = 12 \n",
            "5 X 3 = 15 \n",
            "6 X 3 = 18 \n",
            "7 X 3 = 21 \n",
            "8 X 3 = 24 \n",
            "9 X 3 = 27 \n",
            "10 X 3 = 30 \n"
          ]
        }
      ]
    },
    {
      "cell_type": "markdown",
      "source": [
        "#Desafio 010\n",
        "Crie um programa que leia quanto dinheiro uma pessoa tem na carteira e mostre quantos dolares ela pode comprar\n",
        "(considere o dolar US$=1.00 = RS3.27)"
      ],
      "metadata": {
        "id": "sJ7aQfhEALmr"
      }
    },
    {
      "cell_type": "code",
      "source": [
        "n1 = int(input('Digite quanto dinheiro você tem na sua conta:'))\n",
        "q = n1 / 3.27\n",
        "print('você conseguira comprar {:.2f} dolares'.format(q))"
      ],
      "metadata": {
        "colab": {
          "base_uri": "https://localhost:8080/"
        },
        "id": "u9R8DS0ICExl",
        "outputId": "6194417d-bf0a-4aa9-e98e-b21374ce35d6"
      },
      "execution_count": 34,
      "outputs": [
        {
          "output_type": "stream",
          "name": "stdout",
          "text": [
            "Digite quanto dinheiro você tem na sua conta:10\n",
            "você conseguira comprar 3.06 dolares\n"
          ]
        }
      ]
    },
    {
      "cell_type": "code",
      "source": [
        "n1 = int(input('Digite quanto dinheiro você tem na sua conta:'))\n",
        "q = n1 / 3.27\n",
        "print('você conseguira comprar {:.2f} dolares'.format(q))"
      ],
      "metadata": {
        "colab": {
          "base_uri": "https://localhost:8080/"
        },
        "id": "OYjWmy1nCv6o",
        "outputId": "ea7ddbd6-e47c-4dc4-95ab-aab382796a73"
      },
      "execution_count": 36,
      "outputs": [
        {
          "output_type": "stream",
          "name": "stdout",
          "text": [
            "Digite quanto dinheiro você tem na sua conta:2000\n",
            "você conseguira comprar 611.62 dolares\n"
          ]
        }
      ]
    },
    {
      "cell_type": "code",
      "source": [
        "#exemplo de função\n",
        "def sum(num1, num2):\n",
        "  print(f'A soma é: {num1 + num2}')\n",
        "sum(1, 2)\n",
        "sum(3, 7)\n",
        "sum(3.14, 5.6)\n",
        "\n",
        "#conversor de dólares\n",
        "def converter(valor_na_carteira, cotacao_dolar):\n",
        "  print(f'o valor da carteira é ${valor_na_carteira / cotacao_dolar:.2f}')\n",
        "converter(10, 3.27)\n",
        "converter(2000, 3.27)"
      ],
      "metadata": {
        "colab": {
          "base_uri": "https://localhost:8080/"
        },
        "id": "mICJgvg0fFW5",
        "outputId": "4ee21b56-e762-4cb3-85b5-ecbe9d144d09"
      },
      "execution_count": 93,
      "outputs": [
        {
          "output_type": "stream",
          "name": "stdout",
          "text": [
            "A soma é: 3\n",
            "A soma é: 10\n",
            "A soma é: 8.74\n",
            "o valor da carteira é $3.06\n",
            "o valor da carteira é $611.62\n"
          ]
        }
      ]
    },
    {
      "cell_type": "markdown",
      "source": [
        "#Desafio 011\n",
        "Faça um programa que leia a largura e altura de uma parede em metros, calcule sua área e a quantidade de tinta necessaria para pinta-la,sabendo que cada litro de tinta, pinta uma área de 2m² "
      ],
      "metadata": {
        "id": "YmVTpiVcEJS9"
      }
    },
    {
      "cell_type": "code",
      "source": [
        "n1 = int(input('Digite a largura: '))\n",
        "n2 = int(input('Digite a altura: '))\n",
        "c = n1 * n2\n",
        "t = c / 2\n",
        "print('A Àrea da sua parede é de {}m²,você vai ter que usar {} litros de tinta para pintá-la'.format(c, t))"
      ],
      "metadata": {
        "colab": {
          "base_uri": "https://localhost:8080/"
        },
        "id": "tni3NhWvEDeG",
        "outputId": "8341751a-f0f6-4cc8-f241-c9be72d18020"
      },
      "execution_count": 94,
      "outputs": [
        {
          "output_type": "stream",
          "name": "stdout",
          "text": [
            "Digite a largura: 10\n",
            "Digite a altura: 5\n",
            "A Àrea da sua parede é de 50m²,você vai ter que usar 25.0 litros de tinta para pintá-la\n"
          ]
        }
      ]
    },
    {
      "cell_type": "markdown",
      "source": [
        "#Desafio 012\n",
        "Faça um algoritimo que mostre o preço de um produto e mostre seu novo preço. Com 5% de desconto."
      ],
      "metadata": {
        "id": "gFtd2FPnHnjF"
      }
    },
    {
      "cell_type": "code",
      "source": [
        "n1 = float(input('preço do produto: '))\n",
        "c = (5 * n1) / 100\n",
        "t = n1 - c\n",
        "print('O preço do novo do produto é de {}'.format(t))"
      ],
      "metadata": {
        "colab": {
          "base_uri": "https://localhost:8080/"
        },
        "id": "MBriGwhWH_aY",
        "outputId": "60c3e0c7-2853-4dc6-a79d-a9deb451ed8a"
      },
      "execution_count": 54,
      "outputs": [
        {
          "output_type": "stream",
          "name": "stdout",
          "text": [
            "preço do produto: 24\n",
            "O preço novo do produto é de 22.8\n"
          ]
        }
      ]
    },
    {
      "cell_type": "markdown",
      "source": [
        "#Desafio 013\n",
        "Faça um algoritimo que leia o salário de um funcionario e mostre seu novo salario, com 15% de aumento."
      ],
      "metadata": {
        "id": "aO4046y4NlRF"
      }
    },
    {
      "cell_type": "code",
      "source": [
        "n1 = float(input('digite seu salario:'))\n",
        "c = n1 * (1 + 15 / 100)\n",
        "print('Seu novo salario é de {:.2f}'.format(c))"
      ],
      "metadata": {
        "colab": {
          "base_uri": "https://localhost:8080/"
        },
        "id": "sQzS8n-_IG20",
        "outputId": "bb37c712-85d5-4889-d462-2f0828b13d8f"
      },
      "execution_count": 95,
      "outputs": [
        {
          "output_type": "stream",
          "name": "stdout",
          "text": [
            "digite seu salario:1000\n",
            "Seu novo salario é de 1150.00\n"
          ]
        }
      ]
    },
    {
      "cell_type": "markdown",
      "source": [
        "#Desafio 014\n",
        "Escrva um programa que converta uma temperatura digitada em C e converta para F"
      ],
      "metadata": {
        "id": "nFfoTJZ8NkqK"
      }
    },
    {
      "cell_type": "code",
      "source": [
        "n1 = float(input('digite uma temperatura: '))\n",
        "c = (n1 * 9/5) + 32 \n",
        "print('a sua temperatura é {}C e {}F'.format(n1 , c))"
      ],
      "metadata": {
        "colab": {
          "base_uri": "https://localhost:8080/"
        },
        "id": "yC14Q-ZqUcbi",
        "outputId": "5775fbee-bfc0-4efd-e0ff-c2ecfe27a401"
      },
      "execution_count": 10,
      "outputs": [
        {
          "output_type": "stream",
          "name": "stdout",
          "text": [
            "digite uma temperatura: 20\n",
            "a sua temperatura é 20.0C e 68.0F\n"
          ]
        }
      ]
    },
    {
      "cell_type": "markdown",
      "source": [
        "#Desafio 015\n",
        "Escreva um programa que pergunte a quantidade de km percorridos por um carro alugado e a quantidade de dias pelos quais ele foi alugado.Calcule o preço a pagar,sabendo que o carro custa RS60 por dia e RS0,15 por km rodado"
      ],
      "metadata": {
        "id": "o51-WZ1pVaqM"
      }
    },
    {
      "cell_type": "code",
      "source": [
        "n1 = int(input('Dias alugado: '))\n",
        "n2 = float(input('Km percorridos: '))\n",
        "c = n1 * 60\n",
        "s = n2 * 0.15\n",
        "t = c + s\n",
        "print('A quantidade a pagar pelos dias alugados é de {}'. format(t))"
      ],
      "metadata": {
        "colab": {
          "base_uri": "https://localhost:8080/"
        },
        "id": "zSbo77ZcUpbg",
        "outputId": "96b5798c-4803-4bbb-9fef-3cf1638c4371"
      },
      "execution_count": 15,
      "outputs": [
        {
          "output_type": "stream",
          "name": "stdout",
          "text": [
            "Dias alugado: 5\n",
            "Km percorridos: 100\n",
            "A quantidade a pagar pelos dias alugados é de 315.0\n"
          ]
        }
      ]
    },
    {
      "cell_type": "markdown",
      "source": [
        "#Desafio 016\n",
        "Crie um programa que leia um numero real qualquer pelo teclado e mostre na tela a sua porção inteira\n",
        "\n",
        "ex: digite um numero:6.127\n",
        "O numero 6.127 tem a parte inteira 6"
      ],
      "metadata": {
        "id": "ABwbwMtsgoST"
      }
    },
    {
      "cell_type": "code",
      "source": [
        "import math\n",
        "n1 = float(input('Digite um numero: '))\n",
        "print('O numero {} tem a parte inteira {}'.format(n1 , floor(n1)))"
      ],
      "metadata": {
        "colab": {
          "base_uri": "https://localhost:8080/"
        },
        "id": "N0l_I9SPWEZS",
        "outputId": "8ed44af0-11a8-4faa-c25f-81b60f872cb0"
      },
      "execution_count": 31,
      "outputs": [
        {
          "output_type": "stream",
          "name": "stdout",
          "text": [
            "Digite um numero: 2.332\n",
            "O numero 2.332 tem a parte inteira 2\n"
          ]
        }
      ]
    },
    {
      "cell_type": "markdown",
      "source": [
        "#Desafio 017\n",
        "faça um programa que leia o comprimento do cateto oposto e do cateto adjacente de um triangulo,calcule e mostre o comprimento da hiotenusa"
      ],
      "metadata": {
        "id": "nOcBKsSFikB2"
      }
    },
    {
      "cell_type": "code",
      "source": [
        "import math\n",
        "n1 = int(input('Escreva o Cateto oposto:'))\n",
        "n2 = int(input('Escreva o Cateto adjacente:'))\n",
        "c = hypot(n1 , n2)\n",
        "print('A hipotenusa desses numeros é {}'.format(c))\n"
      ],
      "metadata": {
        "colab": {
          "base_uri": "https://localhost:8080/"
        },
        "id": "vgGv8LoHhiKl",
        "outputId": "0d990e11-27bd-4c44-a31f-166db0f02cb3"
      },
      "execution_count": 30,
      "outputs": [
        {
          "output_type": "stream",
          "name": "stdout",
          "text": [
            "Escreva o Cateto oposto:5\n",
            "Escreva o Cateto adjacente:6\n",
            "A hipotenusa desses numeros é 7.810249675906654\n"
          ]
        }
      ]
    },
    {
      "cell_type": "markdown",
      "source": [
        "#Desafio 018\n",
        "Faça um programa que leia um ângulo qualquer e mostre na tela o valor do seno,cosseno e tangente desse angulo\n"
      ],
      "metadata": {
        "id": "b-xTg5JbkuSN"
      }
    },
    {
      "cell_type": "code",
      "source": [
        "import math\n",
        "n1 = int(input('Digite um cateto oposto: '))\n",
        "n2 = int(input('Digite um cateto adjecente: '))\n",
        "h = math.hypot(n1 , n2)\n",
        "seno = n1 / h\n",
        "cos = n2 / h\n",
        "tan = n1 / n2\n",
        "print('O seno desse numero é {} o cosseno desses numeros é {} e a tangente desses numeros é {}'.format(seno , cos , tan))"
      ],
      "metadata": {
        "colab": {
          "base_uri": "https://localhost:8080/"
        },
        "id": "l42CCQynkSOW",
        "outputId": "4fde18d2-ddb2-418b-cf49-27ff383779ab"
      },
      "execution_count": 35,
      "outputs": [
        {
          "output_type": "stream",
          "name": "stdout",
          "text": [
            "Digite um cateto oposto: 10\n",
            "Digite um cateto adjecente: 7\n",
            "O seno desse numero é 0.8192319205190405 o cosseno desses numeros é 0.5734623443633283 e a tangente desses numeros é 1.4285714285714286\n"
          ]
        }
      ]
    },
    {
      "cell_type": "markdown",
      "source": [
        "#Desafio 019\n",
        "Um professor quer sortear um dos seus alunos para apagar o quadro.Faça um programa que ajude ele lendo o nome deles e escrevendo o nome do escolhido"
      ],
      "metadata": {
        "id": "yrxh8FadqG78"
      }
    },
    {
      "cell_type": "code",
      "source": [
        "import random\n",
        "random_number = random.randint(1,4)\n",
        "if(random_number == 1) :\n",
        "    print('O esolhido para apagar o quadro foi João')\n",
        "elif (random_number == 2) :\n",
        "    print('O esolhido para apagar o quadro foi Pedro')\n",
        "elif (random_number == 3) :\n",
        "    print('O esolhido para apagar o quadro foi Marcio')\n",
        "elif (random_number == 4) :\n",
        "    print('O esolhido para apagar o quadro foi Felipe')\n"
      ],
      "metadata": {
        "colab": {
          "base_uri": "https://localhost:8080/"
        },
        "id": "Ri80-lgRmtVg",
        "outputId": "e9630671-2227-4017-c1ee-61b7c7790553"
      },
      "execution_count": 81,
      "outputs": [
        {
          "output_type": "stream",
          "name": "stdout",
          "text": [
            "O esolhido para apagar o quadro foi Felipe\n"
          ]
        }
      ]
    },
    {
      "cell_type": "code",
      "source": [
        "import random\n",
        "n1 = str(input('Digite um nome: '))\n",
        "n2 = str(input('Digite outro nome: '))\n",
        "n3 = str(input('Digite outro nome: '))\n",
        "n4 = str(input('Digite outro nome: '))\n",
        "lista = (n1 , n2 , n3 , n4)\n",
        "escolhido = random.choice(lista)\n",
        "\n",
        "print('O escolhido para limpar o quadro é {}'.format(escolhido))\n",
        "print(lista[3])"
      ],
      "metadata": {
        "colab": {
          "base_uri": "https://localhost:8080/"
        },
        "id": "wT4Wi2_YrW8T",
        "outputId": "bbe9b422-9de1-418a-de00-d16bd046589c"
      },
      "execution_count": 86,
      "outputs": [
        {
          "output_type": "stream",
          "name": "stdout",
          "text": [
            "Digite um nome: aadsa\n",
            "Digite outro nome: dsadadsdfgds\n",
            "Digite outro nome: gdfgg\n",
            "Digite outro nome: efsdfsfxcx\n",
            "O escolhido para limpar o quadro é aadsa\n",
            "efsdfsfxcx\n"
          ]
        }
      ]
    },
    {
      "cell_type": "code",
      "source": [
        "dadx = 0\n",
        "while (x != 10) :\n",
        "  print('Não é 10!')\n",
        "  x += 1"
      ],
      "metadata": {
        "colab": {
          "base_uri": "https://localhost:8080/"
        },
        "id": "hQSyDyKY5xdc",
        "outputId": "f6c61888-4c0c-4099-b891-a6bc826292a2"
      },
      "execution_count": 85,
      "outputs": [
        {
          "output_type": "stream",
          "name": "stdout",
          "text": [
            "Não é 10!\n",
            "Não é 10!\n",
            "Não é 10!\n",
            "Não é 10!\n",
            "Não é 10!\n",
            "Não é 10!\n",
            "Não é 10!\n",
            "Não é 10!\n",
            "Não é 10!\n",
            "Não é 10!\n"
          ]
        }
      ]
    },
    {
      "cell_type": "markdown",
      "source": [
        "#Desafio 020\n",
        " O mesmo professor do desafio anterior quer sortear a ordem de apresentação de trabalho dos alunos.Faça um programa que leia o nome dos quatro alunos e mostre a ordem sorteada."
      ],
      "metadata": {
        "id": "TtA-MJsR98aE"
      }
    },
    {
      "cell_type": "code",
      "source": [
        "name_one = str(input('Primeiro aluno: '))\n",
        "name_two = str(input('Segundo aluno: '))\n",
        "name_three = str(input('Terceiro aluno: '))\n",
        "name_four = str(input('Quarto aluno: '))\n",
        "list = [name_one , name_two , name_three , name_four]\n",
        "random.shuffle(list)\n",
        "print('A ordem de apresentação será ')\n",
        "print(list)\n"
      ],
      "metadata": {
        "colab": {
          "base_uri": "https://localhost:8080/"
        },
        "id": "1ZEUs6zu7z6y",
        "outputId": "cd1c93a5-7f81-45b4-9e8c-cec065cb63a0"
      },
      "execution_count": 94,
      "outputs": [
        {
          "output_type": "stream",
          "name": "stdout",
          "text": [
            "Primeiro aluno: Pedro\n",
            "Segundo aluno: João\n",
            "Terceiro aluno: Lucia\n",
            "Quarto aluno: Ana\n",
            "A ordem de apresentação será \n",
            "['Pedro', 'Lucia', 'Ana', 'João']\n"
          ]
        }
      ]
    },
    {
      "cell_type": "code",
      "source": [
        "list = ['maria', 'joao', 'claudia', 'kleber']\n",
        "print(list)\n",
        "random.shuffle(list)\n",
        "print(list)"
      ],
      "metadata": {
        "colab": {
          "base_uri": "https://localhost:8080/"
        },
        "id": "rYQJqnPR_-Gm",
        "outputId": "65eceaf9-02b1-4a2d-be48-5a20d1410700"
      },
      "execution_count": 90,
      "outputs": [
        {
          "output_type": "stream",
          "name": "stdout",
          "text": [
            "['maria', 'joao', 'claudia', 'kleber']\n",
            "['claudia', 'maria', 'joao', 'kleber']\n"
          ]
        }
      ]
    },
    {
      "cell_type": "code",
      "source": [
        ""
      ],
      "metadata": {
        "id": "frEVdHALBXHB"
      },
      "execution_count": null,
      "outputs": []
    }
  ]
}