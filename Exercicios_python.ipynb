{
  "nbformat": 4,
  "nbformat_minor": 0,
  "metadata": {
    "colab": {
      "name": "Exercicios python.ipynb",
      "provenance": [],
      "authorship_tag": "ABX9TyP9VVqwNZBGXEB3sr+2Ou0O",
      "include_colab_link": true
    },
    "kernelspec": {
      "name": "python3",
      "display_name": "Python 3"
    },
    "language_info": {
      "name": "python"
    }
  },
  "cells": [
    {
      "cell_type": "markdown",
      "metadata": {
        "id": "view-in-github",
        "colab_type": "text"
      },
      "source": [
        "<a href=\"https://colab.research.google.com/github/matheusyandev/Curso-Python---curso-em-video/blob/main/Exercicios_python.ipynb\" target=\"_parent\"><img src=\"https://colab.research.google.com/assets/colab-badge.svg\" alt=\"Open In Colab\"/></a>"
      ]
    },
    {
      "cell_type": "markdown",
      "source": [
        "#Desafio 001\n",
        "Crie um programa que escreva \"Olá,Mundo!\"na tela."
      ],
      "metadata": {
        "id": "Jq68XTOByD5V"
      }
    },
    {
      "cell_type": "code",
      "execution_count": 2,
      "metadata": {
        "colab": {
          "base_uri": "https://localhost:8080/"
        },
        "id": "xbN1SpisuQhP",
        "outputId": "0d5edb90-4613-4512-9aeb-605ead9f05b1"
      },
      "outputs": [
        {
          "output_type": "stream",
          "name": "stdout",
          "text": [
            "Olá,Mundo!\n"
          ]
        }
      ],
      "source": [
        "print('Olá,Mundo!')"
      ]
    },
    {
      "cell_type": "markdown",
      "source": [
        "#Desafio 002\n",
        "Faça um rograma que leia o nome de uma pessoa e mostre uma mensagem de boas-vindas"
      ],
      "metadata": {
        "id": "G-abdZvy2dRn"
      }
    },
    {
      "cell_type": "code",
      "source": [
        "name = input('Digite seu nome: ')\n",
        "print('Seja bem vindo',name,'prazer em conhece-lo')"
      ],
      "metadata": {
        "colab": {
          "base_uri": "https://localhost:8080/"
        },
        "id": "AoivFd4j2j3p",
        "outputId": "96ea0fcd-4793-4014-fd03-e18a7bf9206a"
      },
      "execution_count": 5,
      "outputs": [
        {
          "output_type": "stream",
          "name": "stdout",
          "text": [
            "Digite seu nome: pedro\n",
            "Seja bem vindo pedro prazer em conhece-lo\n"
          ]
        }
      ]
    },
    {
      "cell_type": "markdown",
      "source": [
        "#Desafio 003\n"
      ],
      "metadata": {
        "id": "0SzVJ8U746AY"
      }
    }
  ]
}